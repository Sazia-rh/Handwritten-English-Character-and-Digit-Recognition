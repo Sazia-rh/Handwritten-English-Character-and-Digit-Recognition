{
 "cells": [
  {
   "cell_type": "code",
   "execution_count": 1,
   "id": "comparative-socket",
   "metadata": {},
   "outputs": [],
   "source": [
    "import matplotlib.pyplot as plt\n",
    "import cv2\n",
    "import numpy as np\n",
    "import keras\n",
    "from keras.models import Sequential\n",
    "from keras.layers import Dense, Flatten, Conv2D, MaxPool2D, Dropout\n",
    "from keras.optimizers import SGD, Adam\n",
    "from keras.callbacks import ReduceLROnPlateau, EarlyStopping\n",
    "from keras.utils import to_categorical\n",
    "import pandas as pd\n",
    "import numpy as np\n",
    "from sklearn.model_selection import train_test_split\n",
    "from sklearn.utils import shuffle\n",
    "import seaborn as sns"
   ]
  },
  {
   "cell_type": "code",
   "execution_count": 2,
   "id": "loose-attitude",
   "metadata": {},
   "outputs": [],
   "source": [
    "(X_mnist_train, y_mnist_train), (X_mnist_test, y_mnist_test) = keras.datasets.mnist.load_data(path=\"mnist.npz\")"
   ]
  },
  {
   "cell_type": "code",
   "execution_count": 3,
   "id": "resident-dodge",
   "metadata": {},
   "outputs": [],
   "source": [
    "X_mnist_full = np.concatenate((X_mnist_train, X_mnist_test))\n",
    "y_mnist_full = np.concatenate((y_mnist_train, y_mnist_test))"
   ]
  },
  {
   "cell_type": "code",
   "execution_count": 4,
   "id": "legal-equation",
   "metadata": {},
   "outputs": [
    {
     "data": {
      "text/plain": [
       "(10,)"
      ]
     },
     "execution_count": 4,
     "metadata": {},
     "output_type": "execute_result"
    }
   ],
   "source": [
    "np.unique(y_mnist_full).shape"
   ]
  },
  {
   "cell_type": "code",
   "execution_count": 5,
   "id": "solved-princeton",
   "metadata": {},
   "outputs": [
    {
     "name": "stdout",
     "output_type": "stream",
     "text": [
      "9\n"
     ]
    },
    {
     "data": {
      "image/png": "[encoded data removed]",
      "text/plain": [
       "<Figure size 432x288 with 1 Axes>"
      ]
     },
     "metadata": {
      "needs_background": "light"
     },
     "output_type": "display_data"
    }
   ],
   "source": [
    "print(y_mnist_full[3000])\n",
    "plt.imshow(X_mnist_full[3000], cmap='gray')\n",
    "plt.show()"
   ]
  },
  {
   "cell_type": "code",
   "execution_count": 6,
   "id": "naked-pound",
   "metadata": {},
   "outputs": [
    {
     "name": "stdout",
     "output_type": "stream",
     "text": [
      "[0 1 2 3 4 5 6 7 8 9]\n"
     ]
    }
   ],
   "source": [
    "print(np.unique(y_mnist_full))"
   ]
  },
  {
   "cell_type": "code",
   "execution_count": 7,
   "id": "sensitive-guitar",
   "metadata": {},
   "outputs": [],
   "source": [
    "permutation = np.random.permutation(X_mnist_full.shape[0])\n",
    "\n",
    "X_mnist_full = X_mnist_full[permutation]\n",
    "y_mnist_full = y_mnist_full[permutation]"
   ]
  },
  {
   "cell_type": "code",
   "execution_count": 8,
   "id": "seasonal-width",
   "metadata": {},
   "outputs": [],
   "source": [
    "X_mnist_full = X_mnist_full / 255.0"
   ]
  },
  {
   "cell_type": "code",
   "execution_count": 9,
   "id": "jewish-crime",
   "metadata": {},
   "outputs": [
    {
     "data": {
      "image/png": "[encoded data removed]",
      "text/plain": [
       "<Figure size 432x288 with 1 Axes>"
      ]
     },
     "metadata": {
      "needs_background": "light"
     },
     "output_type": "display_data"
    }
   ],
   "source": [
    "import string\n",
    "\n",
    "unique_values, frequency_count = np.unique(y_mnist_full, return_counts=True)\n",
    "label = [\"%d\" %i for i in range(0,10)]\n",
    "plt.bar(label, frequency_count)\n",
    "plt.show()"
   ]
  },
  {
   "cell_type": "code",
   "execution_count": 10,
   "id": "latest-center",
   "metadata": {},
   "outputs": [],
   "source": [
    "from sklearn.model_selection import train_test_split\n",
    "\n",
    "X_train, X_test, y_train, y_test = train_test_split(X_mnist_full, y_mnist_full, test_size=0.1)\n",
    "X_train, X_valid, y_train, y_valid = train_test_split(X_train, y_train, test_size=0.1)"
   ]
  },
  {
   "cell_type": "code",
   "execution_count": 11,
   "id": "north-pastor",
   "metadata": {},
   "outputs": [
    {
     "data": {
      "text/plain": [
       "(10,)"
      ]
     },
     "execution_count": 11,
     "metadata": {},
     "output_type": "execute_result"
    }
   ],
   "source": [
    "np.unique(y_train).shape"
   ]
  },
  {
   "cell_type": "code",
   "execution_count": 12,
   "id": "particular-gossip",
   "metadata": {},
   "outputs": [
    {
     "name": "stdout",
     "output_type": "stream",
     "text": [
      "(56700, 28, 28)\n",
      "(7000, 28, 28)\n",
      "(6300, 28, 28)\n"
     ]
    }
   ],
   "source": [
    "print(X_train.shape)\n",
    "print(X_test.shape)\n",
    "print(X_valid.shape)"
   ]
  },
  {
   "cell_type": "code",
   "execution_count": 13,
   "id": "extensive-lambda",
   "metadata": {},
   "outputs": [],
   "source": [
    "X_train = X_train.reshape(X_train.shape[0], 28, 28, 1).astype('float32')\n",
    "X_test = X_test.reshape(X_test.shape[0], 28, 28, 1).astype('float32')\n",
    "X_valid = X_valid.reshape(X_valid.shape[0], 28, 28, 1).astype('float32')\n",
    "\n",
    "y_train_cat = keras.utils.to_categorical(y_train)\n",
    "y_test_cat = keras.utils.to_categorical(y_test)\n",
    "y_valid_cat = keras.utils.to_categorical(y_valid)"
   ]
  },
  {
   "cell_type": "code",
   "execution_count": 14,
   "id": "impressed-metropolitan",
   "metadata": {},
   "outputs": [
    {
     "data": {
      "text/plain": [
       "10"
      ]
     },
     "execution_count": 14,
     "metadata": {},
     "output_type": "execute_result"
    }
   ],
   "source": [
    "y_train_cat.shape[1]"
   ]
  },
  {
   "cell_type": "code",
   "execution_count": 15,
   "id": "seventh-costs",
   "metadata": {},
   "outputs": [
    {
     "name": "stdout",
     "output_type": "stream",
     "text": [
      "7\n"
     ]
    },
    {
     "data": {
      "image/png": "[encoded data removed]",
      "text/plain": [
       "<Figure size 432x288 with 1 Axes>"
      ]
     },
     "metadata": {
      "needs_background": "light"
     },
     "output_type": "display_data"
    }
   ],
   "source": [
    "print(y_train[3009])\n",
    "plt.imshow(X_train[3009], cmap='gray')\n",
    "plt.show()"
   ]
  },
  {
   "cell_type": "code",
   "execution_count": 16,
   "id": "unsigned-symposium",
   "metadata": {},
   "outputs": [],
   "source": [
    "model = Sequential()\n",
    "model.add(Conv2D(filters=32, kernel_size=(5,5), padding='same', activation='relu', input_shape=(28, 28, 1)))\n",
    "model.add(MaxPool2D(strides=2))\n",
    "model.add(Conv2D(filters=64, kernel_size=(7,7), padding='valid', activation='relu'))\n",
    "model.add(MaxPool2D(strides=2))\n",
    "model.add(Flatten())\n",
    "model.add(Dropout(0.5))\n",
    "model.add(Dense(1024, activation='relu'))\n",
    "model.add(Dropout(0.5))\n",
    "model.add(Dense(10, activation='softmax'))"
   ]
  },
  {
   "cell_type": "code",
   "execution_count": 17,
   "id": "flush-eating",
   "metadata": {},
   "outputs": [
    {
     "name": "stdout",
     "output_type": "stream",
     "text": [
      "Model: \"sequential\"\n",
      "_________________________________________________________________\n",
      "Layer (type)                 Output Shape              Param #   \n",
      "=================================================================\n",
      "conv2d (Conv2D)              (None, 28, 28, 32)        832       \n",
      "_________________________________________________________________\n",
      "max_pooling2d (MaxPooling2D) (None, 14, 14, 32)        0         \n",
      "_________________________________________________________________\n",
      "conv2d_1 (Conv2D)            (None, 8, 8, 64)          100416    \n",
      "_________________________________________________________________\n",
      "max_pooling2d_1 (MaxPooling2 (None, 4, 4, 64)          0         \n",
      "_________________________________________________________________\n",
      "flatten (Flatten)            (None, 1024)              0         \n",
      "_________________________________________________________________\n",
      "dropout (Dropout)            (None, 1024)              0         \n",
      "_________________________________________________________________\n",
      "dense (Dense)                (None, 1024)              1049600   \n",
      "_________________________________________________________________\n",
      "dropout_1 (Dropout)          (None, 1024)              0         \n",
      "_________________________________________________________________\n",
      "dense_1 (Dense)              (None, 10)                10250     \n",
      "=================================================================\n",
      "Total params: 1,161,098\n",
      "Trainable params: 1,161,098\n",
      "Non-trainable params: 0\n",
      "_________________________________________________________________\n"
     ]
    }
   ],
   "source": [
    "model.summary()"
   ]
  },
  {
   "cell_type": "code",
   "execution_count": 18,
   "id": "golden-delhi",
   "metadata": {},
   "outputs": [
    {
     "name": "stdout",
     "output_type": "stream",
     "text": [
      "Epoch 1/30\n",
      "1772/1772 [==============================] - 80s 45ms/step - loss: 0.3913 - accuracy: 0.8808 - val_loss: 0.1071 - val_accuracy: 0.9671\n",
      "Epoch 2/30\n",
      "1772/1772 [==============================] - 85s 48ms/step - loss: 0.1266 - accuracy: 0.9612 - val_loss: 0.0675 - val_accuracy: 0.9790\n",
      "Epoch 3/30\n",
      "1772/1772 [==============================] - 81s 46ms/step - loss: 0.0893 - accuracy: 0.9722 - val_loss: 0.0517 - val_accuracy: 0.9849\n",
      "Epoch 4/30\n",
      "1772/1772 [==============================] - 81s 46ms/step - loss: 0.0722 - accuracy: 0.9775 - val_loss: 0.0424 - val_accuracy: 0.9860\n",
      "Epoch 5/30\n",
      "1772/1772 [==============================] - 81s 46ms/step - loss: 0.0583 - accuracy: 0.9822 - val_loss: 0.0345 - val_accuracy: 0.9890\n",
      "Epoch 6/30\n",
      "1772/1772 [==============================] - 79s 45ms/step - loss: 0.0522 - accuracy: 0.9837 - val_loss: 0.0311 - val_accuracy: 0.9900\n",
      "Epoch 7/30\n",
      "1772/1772 [==============================] - 79s 45ms/step - loss: 0.0456 - accuracy: 0.9855 - val_loss: 0.0321 - val_accuracy: 0.9902\n",
      "Epoch 8/30\n",
      "1772/1772 [==============================] - 79s 45ms/step - loss: 0.0406 - accuracy: 0.9868 - val_loss: 0.0260 - val_accuracy: 0.9917\n",
      "Epoch 9/30\n",
      "1772/1772 [==============================] - 78s 44ms/step - loss: 0.0373 - accuracy: 0.9886 - val_loss: 0.0260 - val_accuracy: 0.9922\n",
      "Epoch 10/30\n",
      "1772/1772 [==============================] - 79s 44ms/step - loss: 0.0352 - accuracy: 0.9883 - val_loss: 0.0233 - val_accuracy: 0.9922\n",
      "Epoch 11/30\n",
      "1772/1772 [==============================] - 80s 45ms/step - loss: 0.0320 - accuracy: 0.9898 - val_loss: 0.0227 - val_accuracy: 0.9921\n",
      "Epoch 12/30\n",
      "1772/1772 [==============================] - 80s 45ms/step - loss: 0.0290 - accuracy: 0.9905 - val_loss: 0.0224 - val_accuracy: 0.9925\n",
      "Epoch 13/30\n",
      "1772/1772 [==============================] - 80s 45ms/step - loss: 0.0287 - accuracy: 0.9908 - val_loss: 0.0222 - val_accuracy: 0.9927\n",
      "Epoch 14/30\n",
      "1772/1772 [==============================] - 81s 46ms/step - loss: 0.0271 - accuracy: 0.9918 - val_loss: 0.0213 - val_accuracy: 0.9922\n",
      "Epoch 15/30\n",
      "1772/1772 [==============================] - 81s 45ms/step - loss: 0.0238 - accuracy: 0.9925 - val_loss: 0.0204 - val_accuracy: 0.9930\n",
      "Epoch 16/30\n",
      "1772/1772 [==============================] - 80s 45ms/step - loss: 0.0238 - accuracy: 0.9925 - val_loss: 0.0184 - val_accuracy: 0.9937\n",
      "Epoch 17/30\n",
      "1772/1772 [==============================] - 81s 46ms/step - loss: 0.0222 - accuracy: 0.9925 - val_loss: 0.0183 - val_accuracy: 0.9946\n",
      "Epoch 18/30\n",
      "1772/1772 [==============================] - 77s 43ms/step - loss: 0.0210 - accuracy: 0.9929 - val_loss: 0.0227 - val_accuracy: 0.9929\n",
      "Epoch 19/30\n",
      "1772/1772 [==============================] - 76s 43ms/step - loss: 0.0195 - accuracy: 0.9935 - val_loss: 0.0199 - val_accuracy: 0.9940\n",
      "Epoch 20/30\n",
      "1772/1772 [==============================] - 78s 44ms/step - loss: 0.0184 - accuracy: 0.9942 - val_loss: 0.0187 - val_accuracy: 0.9941\n",
      "Epoch 21/30\n",
      "1772/1772 [==============================] - 81s 46ms/step - loss: 0.0165 - accuracy: 0.9944 - val_loss: 0.0179 - val_accuracy: 0.9940\n",
      "Epoch 22/30\n",
      "1772/1772 [==============================] - 80s 45ms/step - loss: 0.0171 - accuracy: 0.9943 - val_loss: 0.0169 - val_accuracy: 0.9946\n",
      "Epoch 23/30\n",
      "1772/1772 [==============================] - 80s 45ms/step - loss: 0.0168 - accuracy: 0.9945 - val_loss: 0.0178 - val_accuracy: 0.9944\n",
      "Epoch 24/30\n",
      "1772/1772 [==============================] - 79s 45ms/step - loss: 0.0147 - accuracy: 0.9951 - val_loss: 0.0210 - val_accuracy: 0.9932\n",
      "Epoch 25/30\n",
      "1772/1772 [==============================] - 80s 45ms/step - loss: 0.0151 - accuracy: 0.9951 - val_loss: 0.0172 - val_accuracy: 0.9952\n",
      "Epoch 26/30\n",
      "1772/1772 [==============================] - 80s 45ms/step - loss: 0.0139 - accuracy: 0.9953 - val_loss: 0.0167 - val_accuracy: 0.9956\n",
      "Epoch 27/30\n",
      "1772/1772 [==============================] - 80s 45ms/step - loss: 0.0129 - accuracy: 0.9957 - val_loss: 0.0166 - val_accuracy: 0.9956\n",
      "Epoch 28/30\n",
      "1772/1772 [==============================] - 79s 45ms/step - loss: 0.0139 - accuracy: 0.9955 - val_loss: 0.0152 - val_accuracy: 0.9954\n",
      "Epoch 29/30\n",
      "1772/1772 [==============================] - 80s 45ms/step - loss: 0.0125 - accuracy: 0.9963 - val_loss: 0.0158 - val_accuracy: 0.9951\n",
      "Epoch 30/30\n",
      "1772/1772 [==============================] - 79s 45ms/step - loss: 0.0118 - accuracy: 0.9957 - val_loss: 0.0166 - val_accuracy: 0.9951\n"
     ]
    }
   ],
   "source": [
    "model.compile(optimizer = Adam(learning_rate=0.0001), loss='categorical_crossentropy', metrics=['accuracy'])\n",
    "\n",
    "history = model.fit(X_train,y_train_cat , epochs=30,  validation_data = (X_valid,y_valid_cat))"
   ]
  },
  {
   "cell_type": "code",
   "execution_count": 23,
   "id": "rapid-slide",
   "metadata": {},
   "outputs": [
    {
     "data": {
      "text/plain": [
       "Text(0, 0.5, 'Accuracy')"
      ]
     },
     "execution_count": 23,
     "metadata": {},
     "output_type": "execute_result"
    },
    {
     "data": {
      "image/png": "[encoded data removed]",
      "text/plain": [
       "<Figure size 432x288 with 1 Axes>"
      ]
     },
     "metadata": {
      "needs_background": "light"
     },
     "output_type": "display_data"
    }
   ],
   "source": [
    "q = len(history.history['accuracy'])\n",
    "\n",
    "plt.figsize=(10,10)\n",
    "sns.lineplot(x = range(1,1+q),y = history.history['accuracy'], label='Train_Accuracy')\n",
    "sns.lineplot(x = range(1,1+q),y = history.history['val_accuracy'], label='Val_Accuracy')\n",
    "plt.xlabel('epochs')\n",
    "plt.ylabel('Accuracy')"
   ]
  },
  {
   "cell_type": "code",
   "execution_count": 24,
   "id": "convenient-intervention",
   "metadata": {},
   "outputs": [
    {
     "data": {
      "image/png": "[encoded data removed]",
      "text/plain": [
       "<Figure size 432x288 with 1 Axes>"
      ]
     },
     "metadata": {
      "needs_background": "light"
     },
     "output_type": "display_data"
    }
   ],
   "source": [
    "plt.plot(history.history['loss'])\n",
    "plt.plot(history.history['val_loss'])\n",
    "plt.title('Training Loss vs Validation Loss')\n",
    "plt.ylabel('Loss')\n",
    "plt.xlabel('Epoch')\n",
    "plt.legend(['Train', 'Validation'], loc='upper left')\n",
    "plt.show()"
   ]
  },
  {
   "cell_type": "code",
   "execution_count": 25,
   "id": "fleet-scanning",
   "metadata": {},
   "outputs": [
    {
     "name": "stdout",
     "output_type": "stream",
     "text": [
      "219/219 [==============================] - 2s 10ms/step - loss: 0.0196 - accuracy: 0.9947\n"
     ]
    },
    {
     "data": {
      "text/plain": [
       "[0.019571926444768906, 0.9947142601013184]"
      ]
     },
     "execution_count": 25,
     "metadata": {},
     "output_type": "execute_result"
    }
   ],
   "source": [
    "model.evaluate(X_test, y_test_cat)"
   ]
  },
  {
   "cell_type": "code",
   "execution_count": 26,
   "id": "southwest-juice",
   "metadata": {},
   "outputs": [],
   "source": [
    "model.save('H:\\HCR\\MNISTF.h5')"
   ]
  },
  {
   "cell_type": "code",
   "execution_count": null,
   "id": "controlled-palestinian",
   "metadata": {},
   "outputs": [],
   "source": []
  }
 ],
 "metadata": {
  "kernelspec": {
   "display_name": "Python 3",
   "language": "python",
   "name": "python3"
  },
  "language_info": {
   "codemirror_mode": {
    "name": "ipython",
    "version": 3
   },
   "file_extension": ".py",
   "mimetype": "text/x-python",
   "name": "python",
   "nbconvert_exporter": "python",
   "pygments_lexer": "ipython3",
   "version": "3.8.8"
  }
 },
 "nbformat": 4,
 "nbformat_minor": 5
}
