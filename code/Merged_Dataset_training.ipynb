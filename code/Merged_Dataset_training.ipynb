{
 "cells": [
  {
   "cell_type": "code",
   "execution_count": 1,
   "id": "scientific-cartridge",
   "metadata": {},
   "outputs": [],
   "source": [
    "import matplotlib.pyplot as plt\n",
    "import cv2\n",
    "import numpy as np\n",
    "import keras\n",
    "from keras.models import Sequential\n",
    "from keras.layers import Dense, Flatten, Conv2D, MaxPool2D, Dropout\n",
    "from keras.optimizers import SGD, Adam\n",
    "from keras.callbacks import ReduceLROnPlateau, EarlyStopping\n",
    "from keras.utils import to_categorical\n",
    "import pandas as pd\n",
    "import numpy as np\n",
    "from sklearn.model_selection import train_test_split\n",
    "from sklearn.utils import shuffle\n",
    "import seaborn as sns"
   ]
  },
  {
   "cell_type": "markdown",
   "id": "difficult-algorithm",
   "metadata": {},
   "source": [
    "# A-Z Dataset"
   ]
  },
  {
   "cell_type": "code",
   "execution_count": 2,
   "id": "taken-camel",
   "metadata": {},
   "outputs": [],
   "source": [
    "data_letters = pd.read_csv('H:\\Dataset for handwritten\\A-Z Dataset\\A_Z Handwritten Data\\A_Z Handwritten Data.csv').astype('int32')"
   ]
  },
  {
   "cell_type": "code",
   "execution_count": 3,
   "id": "geographic-pioneer",
   "metadata": {},
   "outputs": [],
   "source": [
    "data_letters.rename(columns={'0':'label'}, inplace=True)"
   ]
  },
  {
   "cell_type": "code",
   "execution_count": 4,
   "id": "welsh-board",
   "metadata": {},
   "outputs": [],
   "source": [
    "X_letters_full = data_letters.drop('label', axis=1).to_numpy()\n",
    "y_letters_full = data_letters['label'].to_numpy()"
   ]
  },
  {
   "cell_type": "code",
   "execution_count": 5,
   "id": "classical-tribute",
   "metadata": {},
   "outputs": [],
   "source": [
    "X_letters_full = X_letters_full.reshape(X_letters_full.shape[0],28,28)"
   ]
  },
  {
   "cell_type": "code",
   "execution_count": 6,
   "id": "requested-baseline",
   "metadata": {},
   "outputs": [
    {
     "name": "stdout",
     "output_type": "stream",
     "text": [
      "0\n"
     ]
    },
    {
     "data": {
      "image/png": "[encoded data removed]",
      "text/plain": [
       "<Figure size 432x288 with 1 Axes>"
      ]
     },
     "metadata": {
      "needs_background": "light"
     },
     "output_type": "display_data"
    },
    {
     "data": {
      "text/plain": [
       "(372450, 28, 28)"
      ]
     },
     "execution_count": 6,
     "metadata": {},
     "output_type": "execute_result"
    }
   ],
   "source": [
    "print(y_letters_full[3001])\n",
    "plt.imshow(X_letters_full[280001], cmap='gray')\n",
    "plt.show()\n",
    "X_letters_full.shape"
   ]
  },
  {
   "cell_type": "markdown",
   "id": "intensive-transparency",
   "metadata": {},
   "source": [
    "# MNIST Dataset"
   ]
  },
  {
   "cell_type": "code",
   "execution_count": 7,
   "id": "sticky-belarus",
   "metadata": {},
   "outputs": [],
   "source": [
    "(X_mnist_train, y_mnist_train), (X_mnist_test, y_mnist_test) = keras.datasets.mnist.load_data(path=\"mnist.npz\")"
   ]
  },
  {
   "cell_type": "code",
   "execution_count": 8,
   "id": "happy-customer",
   "metadata": {},
   "outputs": [],
   "source": [
    "X_mnist_full = np.concatenate((X_mnist_train, X_mnist_test))\n",
    "y_mnist_full = np.concatenate((y_mnist_train, y_mnist_test))"
   ]
  },
  {
   "cell_type": "code",
   "execution_count": 9,
   "id": "executed-vitamin",
   "metadata": {},
   "outputs": [
    {
     "data": {
      "text/plain": [
       "(10,)"
      ]
     },
     "execution_count": 9,
     "metadata": {},
     "output_type": "execute_result"
    }
   ],
   "source": [
    "np.unique(y_mnist_full).shape"
   ]
  },
  {
   "cell_type": "code",
   "execution_count": 10,
   "id": "attempted-stationery",
   "metadata": {},
   "outputs": [
    {
     "name": "stdout",
     "output_type": "stream",
     "text": [
      "9\n"
     ]
    },
    {
     "data": {
      "image/png": "[encoded data removed]",
      "text/plain": [
       "<Figure size 432x288 with 1 Axes>"
      ]
     },
     "metadata": {
      "needs_background": "light"
     },
     "output_type": "display_data"
    }
   ],
   "source": [
    "print(y_mnist_full[3000])\n",
    "plt.imshow(X_mnist_full[3000], cmap='gray')\n",
    "plt.show()"
   ]
  },
  {
   "cell_type": "markdown",
   "id": "obvious-crime",
   "metadata": {},
   "source": [
    "# Merging Two Datasets\n",
    "\n",
    "A-Z Handwritten + MNIST"
   ]
  },
  {
   "cell_type": "code",
   "execution_count": 11,
   "id": "numeric-sullivan",
   "metadata": {},
   "outputs": [
    {
     "name": "stdout",
     "output_type": "stream",
     "text": [
      "[0 1 2 3 4 5 6 7 8 9]\n",
      "[10 11 12 13 14 15 16 17 18 19 20 21 22 23 24 25 26 27 28 29 30 31 32 33\n",
      " 34 35]\n"
     ]
    }
   ],
   "source": [
    "y_letters_full = y_letters_full+10\n",
    "\n",
    "print(np.unique(y_mnist_full))\n",
    "print(np.unique(y_letters_full))"
   ]
  },
  {
   "cell_type": "code",
   "execution_count": 12,
   "id": "enclosed-sphere",
   "metadata": {},
   "outputs": [],
   "source": [
    "X_data_full = np.concatenate((X_mnist_full, X_letters_full))\n",
    "y_data_full = np.concatenate((y_mnist_full, y_letters_full))"
   ]
  },
  {
   "cell_type": "code",
   "execution_count": 13,
   "id": "touched-grass",
   "metadata": {},
   "outputs": [
    {
     "data": {
      "text/plain": [
       "(36,)"
      ]
     },
     "execution_count": 13,
     "metadata": {},
     "output_type": "execute_result"
    }
   ],
   "source": [
    "np.unique(y_data_full).shape"
   ]
  },
  {
   "cell_type": "code",
   "execution_count": 14,
   "id": "found-slovakia",
   "metadata": {},
   "outputs": [],
   "source": [
    "permutation = np.random.permutation(X_data_full.shape[0])\n",
    "\n",
    "X_data_full = X_data_full[permutation]\n",
    "y_data_full = y_data_full[permutation]"
   ]
  },
  {
   "cell_type": "code",
   "execution_count": 15,
   "id": "cardiovascular-comedy",
   "metadata": {},
   "outputs": [],
   "source": [
    "X_data_full = X_data_full / 255.0"
   ]
  },
  {
   "cell_type": "code",
   "execution_count": 16,
   "id": "million-medicaid",
   "metadata": {},
   "outputs": [
    {
     "data": {
      "image/png": "[encoded data removed]",
      "text/plain": [
       "<Figure size 432x288 with 1 Axes>"
      ]
     },
     "metadata": {
      "needs_background": "light"
     },
     "output_type": "display_data"
    }
   ],
   "source": [
    "import string\n",
    "\n",
    "unique_values, frequency_count = np.unique(y_data_full, return_counts=True)\n",
    "label = [\"%d\" %i for i in range(0,10)] + list(string.ascii_uppercase)\n",
    "plt.bar(label, frequency_count)\n",
    "plt.show()"
   ]
  },
  {
   "cell_type": "code",
   "execution_count": 17,
   "id": "polar-trigger",
   "metadata": {},
   "outputs": [],
   "source": [
    "from sklearn.model_selection import train_test_split\n",
    "\n",
    "X_train, X_test, y_train, y_test = train_test_split(X_data_full, y_data_full, test_size=0.1)\n",
    "X_train, X_valid, y_train, y_valid = train_test_split(X_train, y_train, test_size=0.1)"
   ]
  },
  {
   "cell_type": "code",
   "execution_count": 18,
   "id": "complete-endorsement",
   "metadata": {},
   "outputs": [
    {
     "data": {
      "text/plain": [
       "(36,)"
      ]
     },
     "execution_count": 18,
     "metadata": {},
     "output_type": "execute_result"
    }
   ],
   "source": [
    "np.unique(y_train).shape"
   ]
  },
  {
   "cell_type": "code",
   "execution_count": 19,
   "id": "maritime-cycling",
   "metadata": {},
   "outputs": [
    {
     "name": "stdout",
     "output_type": "stream",
     "text": [
      "(358384, 28, 28)\n",
      "(44245, 28, 28)\n",
      "(39821, 28, 28)\n"
     ]
    }
   ],
   "source": [
    "print(X_train.shape)\n",
    "print(X_test.shape)\n",
    "print(X_valid.shape)"
   ]
  },
  {
   "cell_type": "code",
   "execution_count": 20,
   "id": "solar-corner",
   "metadata": {},
   "outputs": [
    {
     "data": {
      "text/plain": [
       "array([30,  8, 21, ..., 22, 32, 30])"
      ]
     },
     "execution_count": 20,
     "metadata": {},
     "output_type": "execute_result"
    }
   ],
   "source": [
    "y_train"
   ]
  },
  {
   "cell_type": "code",
   "execution_count": 21,
   "id": "consolidated-acrobat",
   "metadata": {},
   "outputs": [],
   "source": [
    "X_train = X_train.reshape(X_train.shape[0], 28, 28, 1).astype('float32')\n",
    "X_test = X_test.reshape(X_test.shape[0], 28, 28, 1).astype('float32')\n",
    "X_valid = X_valid.reshape(X_valid.shape[0], 28, 28, 1).astype('float32')\n",
    "\n",
    "y_train_cat = keras.utils.to_categorical(y_train)\n",
    "y_test_cat = keras.utils.to_categorical(y_test)\n",
    "y_valid_cat = keras.utils.to_categorical(y_valid)"
   ]
  },
  {
   "cell_type": "code",
   "execution_count": 22,
   "id": "obvious-robertson",
   "metadata": {},
   "outputs": [
    {
     "data": {
      "text/plain": [
       "36"
      ]
     },
     "execution_count": 22,
     "metadata": {},
     "output_type": "execute_result"
    }
   ],
   "source": [
    "y_train_cat.shape[1]"
   ]
  },
  {
   "cell_type": "code",
   "execution_count": 23,
   "id": "atomic-penguin",
   "metadata": {},
   "outputs": [
    {
     "name": "stdout",
     "output_type": "stream",
     "text": [
      "23\n"
     ]
    },
    {
     "data": {
      "image/png": "[encoded data removed]",
      "text/plain": [
       "<Figure size 432x288 with 1 Axes>"
      ]
     },
     "metadata": {
      "needs_background": "light"
     },
     "output_type": "display_data"
    }
   ],
   "source": [
    "print(y_train[3009])\n",
    "plt.imshow(X_train[3009], cmap='gray')\n",
    "plt.show()"
   ]
  },
  {
   "cell_type": "code",
   "execution_count": 28,
   "id": "computational-commerce",
   "metadata": {},
   "outputs": [],
   "source": [
    "model = Sequential()\n",
    "model.add(Conv2D(filters=32, kernel_size=(5,5), padding='same', activation='relu', input_shape=(28, 28, 1)))\n",
    "model.add(MaxPool2D(strides=2))\n",
    "model.add(Conv2D(filters=64, kernel_size=(7,7), padding='valid', activation='relu'))\n",
    "model.add(MaxPool2D(strides=2))\n",
    "model.add(Flatten())\n",
    "model.add(Dropout(0.1))\n",
    "model.add(Dense(1024, activation='relu'))\n",
    "model.add(Dropout(0.1))\n",
    "model.add(Dense(36, activation='softmax'))"
   ]
  },
  {
   "cell_type": "code",
   "execution_count": 29,
   "id": "latter-screening",
   "metadata": {},
   "outputs": [
    {
     "name": "stdout",
     "output_type": "stream",
     "text": [
      "Model: \"sequential\"\n",
      "_________________________________________________________________\n",
      "Layer (type)                 Output Shape              Param #   \n",
      "=================================================================\n",
      "conv2d (Conv2D)              (None, 28, 28, 32)        832       \n",
      "_________________________________________________________________\n",
      "max_pooling2d (MaxPooling2D) (None, 14, 14, 32)        0         \n",
      "_________________________________________________________________\n",
      "conv2d_1 (Conv2D)            (None, 8, 8, 64)          100416    \n",
      "_________________________________________________________________\n",
      "max_pooling2d_1 (MaxPooling2 (None, 4, 4, 64)          0         \n",
      "_________________________________________________________________\n",
      "flatten (Flatten)            (None, 1024)              0         \n",
      "_________________________________________________________________\n",
      "dropout (Dropout)            (None, 1024)              0         \n",
      "_________________________________________________________________\n",
      "dense (Dense)                (None, 1024)              1049600   \n",
      "_________________________________________________________________\n",
      "dropout_1 (Dropout)          (None, 1024)              0         \n",
      "_________________________________________________________________\n",
      "dense_1 (Dense)              (None, 36)                36900     \n",
      "=================================================================\n",
      "Total params: 1,187,748\n",
      "Trainable params: 1,187,748\n",
      "Non-trainable params: 0\n",
      "_________________________________________________________________\n"
     ]
    }
   ],
   "source": [
    "model.summary()"
   ]
  },
  {
   "cell_type": "code",
   "execution_count": 30,
   "id": "automatic-panel",
   "metadata": {},
   "outputs": [
    {
     "name": "stdout",
     "output_type": "stream",
     "text": [
      "Epoch 1/20\n",
      "11200/11200 [==============================] - 472s 42ms/step - loss: 0.1554 - accuracy: 0.9550 - val_loss: 0.0795 - val_accuracy: 0.9765\n",
      "Epoch 2/20\n",
      "11200/11200 [==============================] - 468s 42ms/step - loss: 0.0753 - accuracy: 0.9779 - val_loss: 0.0528 - val_accuracy: 0.9838\n",
      "Epoch 3/20\n",
      "11200/11200 [==============================] - 470s 42ms/step - loss: 0.0563 - accuracy: 0.9831 - val_loss: 0.0512 - val_accuracy: 0.9849\n",
      "Epoch 4/20\n",
      "11200/11200 [==============================] - 467s 42ms/step - loss: 0.0465 - accuracy: 0.9857 - val_loss: 0.0562 - val_accuracy: 0.9840\n",
      "Epoch 5/20\n",
      "11200/11200 [==============================] - 475s 42ms/step - loss: 0.0398 - accuracy: 0.9876 - val_loss: 0.0566 - val_accuracy: 0.9858\n",
      "Epoch 6/20\n",
      "11200/11200 [==============================] - 475s 42ms/step - loss: 0.0376 - accuracy: 0.9888 - val_loss: 0.0532 - val_accuracy: 0.9869\n",
      "Epoch 7/20\n",
      "11200/11200 [==============================] - 482s 43ms/step - loss: 0.0348 - accuracy: 0.9896 - val_loss: 0.0519 - val_accuracy: 0.9875\n",
      "Epoch 8/20\n",
      "11200/11200 [==============================] - 488s 44ms/step - loss: 0.0333 - accuracy: 0.9903 - val_loss: 0.0503 - val_accuracy: 0.9884\n",
      "Epoch 9/20\n",
      "11200/11200 [==============================] - 487s 44ms/step - loss: 0.0320 - accuracy: 0.9907 - val_loss: 0.0543 - val_accuracy: 0.9889\n",
      "Epoch 10/20\n",
      "11200/11200 [==============================] - 503s 45ms/step - loss: 0.0304 - accuracy: 0.9916 - val_loss: 0.0579 - val_accuracy: 0.9865\n",
      "Epoch 11/20\n",
      "11200/11200 [==============================] - 488s 44ms/step - loss: 0.0314 - accuracy: 0.9914 - val_loss: 0.0598 - val_accuracy: 0.9883\n",
      "Epoch 12/20\n",
      "11200/11200 [==============================] - 486s 43ms/step - loss: 0.0294 - accuracy: 0.9920 - val_loss: 0.0582 - val_accuracy: 0.9895\n",
      "Epoch 13/20\n",
      "11200/11200 [==============================] - 488s 44ms/step - loss: 0.0307 - accuracy: 0.9921 - val_loss: 0.0695 - val_accuracy: 0.9890\n",
      "Epoch 14/20\n",
      "11200/11200 [==============================] - 487s 44ms/step - loss: 0.0300 - accuracy: 0.9924 - val_loss: 0.0699 - val_accuracy: 0.9892\n",
      "Epoch 15/20\n",
      "11200/11200 [==============================] - 485s 43ms/step - loss: 0.0294 - accuracy: 0.9926 - val_loss: 0.0694 - val_accuracy: 0.9887\n",
      "Epoch 16/20\n",
      "11200/11200 [==============================] - 480s 43ms/step - loss: 0.0297 - accuracy: 0.9929 - val_loss: 0.0789 - val_accuracy: 0.9882\n",
      "Epoch 17/20\n",
      "11200/11200 [==============================] - 486s 43ms/step - loss: 0.0308 - accuracy: 0.9928 - val_loss: 0.0776 - val_accuracy: 0.9890\n",
      "Epoch 18/20\n",
      "11200/11200 [==============================] - 493s 44ms/step - loss: 0.0314 - accuracy: 0.9929 - val_loss: 0.0731 - val_accuracy: 0.9891\n",
      "Epoch 19/20\n",
      "11200/11200 [==============================] - 486s 43ms/step - loss: 0.0305 - accuracy: 0.9932 - val_loss: 0.0858 - val_accuracy: 0.9897\n",
      "Epoch 20/20\n",
      "11200/11200 [==============================] - 485s 43ms/step - loss: 0.0312 - accuracy: 0.9933 - val_loss: 0.0982 - val_accuracy: 0.9892\n"
     ]
    }
   ],
   "source": [
    "model.compile(optimizer = Adam(learning_rate=0.001), loss='categorical_crossentropy', metrics=['accuracy'])\n",
    "\n",
    "history = model.fit(X_train,y_train_cat , epochs=20,  validation_data = (X_valid,y_valid_cat))"
   ]
  },
  {
   "cell_type": "code",
   "execution_count": 31,
   "id": "parliamentary-football",
   "metadata": {},
   "outputs": [
    {
     "data": {
      "text/plain": [
       "Text(0, 0.5, 'Accuracy')"
      ]
     },
     "execution_count": 31,
     "metadata": {},
     "output_type": "execute_result"
    },
    {
     "data": {
      "image/png": "[encoded data removed]",
      "text/plain": [
       "<Figure size 432x288 with 1 Axes>"
      ]
     },
     "metadata": {
      "needs_background": "light"
     },
     "output_type": "display_data"
    }
   ],
   "source": [
    "q = len(history.history['accuracy'])\n",
    "\n",
    "plt.figsize=(10,10)\n",
    "sns.lineplot(x = range(1,1+q),y = history.history['accuracy'], label='Train_Accuracy')\n",
    "sns.lineplot(x = range(1,1+q),y = history.history['val_accuracy'], label='Val_Accuracy')\n",
    "plt.xlabel('epochs')\n",
    "plt.ylabel('Accuracy')"
   ]
  },
  {
   "cell_type": "code",
   "execution_count": 33,
   "id": "laughing-apparel",
   "metadata": {},
   "outputs": [
    {
     "data": {
      "image/png": "[encoded data removed]",
      "text/plain": [
       "<Figure size 432x288 with 1 Axes>"
      ]
     },
     "metadata": {
      "needs_background": "light"
     },
     "output_type": "display_data"
    }
   ],
   "source": [
    "plt.plot(history.history['loss'])\n",
    "plt.plot(history.history['val_loss'])\n",
    "plt.title('Training Loss vs Validation Loss')\n",
    "plt.ylabel('Loss')\n",
    "plt.xlabel('Epoch')\n",
    "plt.legend(['Train', 'Validation'], loc='upper left')\n",
    "plt.show()"
   ]
  },
  {
   "cell_type": "code",
   "execution_count": 34,
   "id": "attended-instrumentation",
   "metadata": {},
   "outputs": [
    {
     "name": "stdout",
     "output_type": "stream",
     "text": [
      "1383/1383 [==============================] - 14s 10ms/step - loss: 0.0831 - accuracy: 0.9894\n"
     ]
    },
    {
     "data": {
      "text/plain": [
       "[0.0831165537238121, 0.9893773198127747]"
      ]
     },
     "execution_count": 34,
     "metadata": {},
     "output_type": "execute_result"
    }
   ],
   "source": [
    "model.evaluate(X_test, y_test_cat)"
   ]
  },
  {
   "cell_type": "code",
   "execution_count": 36,
   "id": "signal-browser",
   "metadata": {},
   "outputs": [],
   "source": [
    "model.save('H:\\HCR\\JANABHATTS1.h5')"
   ]
  },
  {
   "cell_type": "code",
   "execution_count": null,
   "id": "acquired-prize",
   "metadata": {},
   "outputs": [],
   "source": []
  }
 ],
 "metadata": {
  "kernelspec": {
   "display_name": "Python 3",
   "language": "python",
   "name": "python3"
  },
  "language_info": {
   "codemirror_mode": {
    "name": "ipython",
    "version": 3
   },
   "file_extension": ".py",
   "mimetype": "text/x-python",
   "name": "python",
   "nbconvert_exporter": "python",
   "pygments_lexer": "ipython3",
   "version": "3.8.5"
  }
 },
 "nbformat": 4,
 "nbformat_minor": 5
}
